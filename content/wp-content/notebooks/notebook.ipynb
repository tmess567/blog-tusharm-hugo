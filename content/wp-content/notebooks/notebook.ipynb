{
  "cells": [
    {
      "metadata": {
        "_uuid": "8f2839f25d086af736a60e9eeb907d3b93b6e0e5",
        "_cell_guid": "b1076dfc-b9ad-4769-8c92-a6c4dae69d19",
        "trusted": true,
        "collapsed": true
      },
      "cell_type": "code",
      "source": "# This Python 3 environment comes with many helpful analytics libraries installed\n# It is defined by the kaggle/python docker image: https://github.com/kaggle/docker-python\n# For example, here's several helpful packages to load in \n\nimport numpy as np # linear algebra\nimport pandas as pd # data processing, CSV file I/O (e.g. pd.read_csv)\n\n# Input data files are available in the \"../input/\" directory.\n# For example, running this (by clicking run or pressing Shift+Enter) will list the files in the input directory\n\nimport os\nprint(os.listdir(\"../input\"))\n\n# Any results you write to the current directory are saved as output.",
      "execution_count": 1,
      "outputs": []
    },
    {
      "metadata": {
        "_cell_guid": "79c7e3d0-c299-4dcb-8224-4455121ee9b0",
        "_uuid": "d629ff2d2480ee46fbb7e2d37f6b5fab8052498a",
        "trusted": true,
        "collapsed": true
      },
      "cell_type": "code",
      "source": "file1 = pd.read_csv('../input/file1.txt', '\\t', header=None, names = ['GCF', 'WP'])\nfile1.head()",
      "execution_count": 2,
      "outputs": []
    },
    {
      "metadata": {
        "_uuid": "d84bf78df05fcc7466d6a44735be6874f99a74a5"
      },
      "cell_type": "markdown",
      "source": "Need to add index to file1 so that it can be joined with the index below\n\nThis needs to be done since we will be joining on file line numbers"
    },
    {
      "metadata": {
        "trusted": true,
        "_uuid": "83dd1b71e059d1ca8720276d663b90b64ee23529",
        "collapsed": true
      },
      "cell_type": "code",
      "source": "file1['ind'] = file1.index + 1\nfile1['ind'] = 'C' + file1['ind'].astype(str) + ' '\nfile1.head()",
      "execution_count": 3,
      "outputs": []
    },
    {
      "metadata": {
        "trusted": true,
        "_uuid": "09efc9eab43a6754684c1e670909306c1ae1924d",
        "collapsed": true
      },
      "cell_type": "code",
      "source": "file2 = pd.read_csv('../input/file2.txt', '\\t', header=None, names = [\n    'ind', 'col1', 'col2', 'GCF', 'col4', 'col5', 'col6', 'col7', 'col8', 'col9', 'col10', 'WP', 'col12', 'col13', 'col14', 'col15', 'col16', 'col17', 'col18', 'col19', 'col20'])\nfile2.head()",
      "execution_count": 4,
      "outputs": []
    },
    {
      "metadata": {
        "_uuid": "e7fd1fea959e704a2a10e52696a26378591089a1"
      },
      "cell_type": "markdown",
      "source": "Need to set DType of Columns as String before joining"
    },
    {
      "metadata": {
        "trusted": true,
        "_uuid": "cd0ad32e602ed47fcf67e871cad9b05e9cc05d46",
        "collapsed": true
      },
      "cell_type": "code",
      "source": "file1.GCF = file1.GCF.astype(str).apply(lambda x: x.strip())\nfile1.WP = file1.WP.astype(str).apply(lambda x: x.strip())\n\nfile2.GCF = file2.GCF.astype(str).apply(lambda x: x.strip())\nfile2.WP = file2.WP.astype(str).apply(lambda x: x.strip())",
      "execution_count": 5,
      "outputs": []
    },
    {
      "metadata": {
        "_uuid": "7e442f422b08dcfe94de7a87a16632666d3282a9"
      },
      "cell_type": "markdown",
      "source": "Now joining based on Columns and index."
    },
    {
      "metadata": {
        "trusted": true,
        "_uuid": "6a817f9cf17b4e672807fc8c00b217de2f0a05c6",
        "collapsed": true
      },
      "cell_type": "code",
      "source": "pd.merge(file1, file2, on = ['ind', 'GCF', 'WP'], how = 'inner')",
      "execution_count": 6,
      "outputs": []
    },
    {
      "metadata": {
        "trusted": true,
        "_uuid": "64fee3c27e1235dc13bd4445de27b34f28555f6a",
        "collapsed": true
      },
      "cell_type": "code",
      "source": "pd.merge(file1, file2, on = ['GCF', 'WP'], how = 'inner')",
      "execution_count": 10,
      "outputs": []
    },
    {
      "metadata": {
        "trusted": true,
        "collapsed": true,
        "_uuid": "5e254c544bddb35d39cd1da8924460117eec5103"
      },
      "cell_type": "code",
      "source": "output = pd.merge(file1, file2, on = ['GCF', 'WP'], how = 'inner')\noutput.to_csv('output_1.csv')",
      "execution_count": 11,
      "outputs": []
    },
    {
      "metadata": {
        "_uuid": "6d7d0ae678f293966bdbe162e059d076acea6911"
      },
      "cell_type": "markdown",
      "source": "To make sure this works, I tried joining on just index which I knew was intersecting"
    },
    {
      "metadata": {
        "trusted": true,
        "_uuid": "5b35a190bddd16101a183ddba0ea46022e118829",
        "collapsed": true
      },
      "cell_type": "code",
      "source": "pd.merge(file1, file2, on = ['ind'], how = 'inner').head()",
      "execution_count": 12,
      "outputs": []
    },
    {
      "metadata": {
        "trusted": true,
        "_uuid": "57bfc409552512808fdcd571bbe4a5455a42f918",
        "collapsed": true
      },
      "cell_type": "code",
      "source": "file3 = pd.read_csv('../input/file3.txt', '\\t')\nfile3.fillna(-9999, inplace=True)\nfile3",
      "execution_count": 13,
      "outputs": []
    },
    {
      "metadata": {
        "_uuid": "139f96354e50d4c670cc64c225b4fb68894707f5"
      },
      "cell_type": "markdown",
      "source": "Resolving each num value / comma separared as array"
    },
    {
      "metadata": {
        "trusted": true,
        "_uuid": "d1d2514adb73df1b38d1e717de4b9a3cae48c76a",
        "collapsed": true
      },
      "cell_type": "code",
      "source": "def resolve_as_arr(val):\n    return str(val).split(',')\n    \nfile3['rmlA'] = file3['rmlA'].apply(resolve_as_arr)\nfile3['rmlB'] = file3['rmlB'].apply(resolve_as_arr)\nfile3['rmlC35'] = file3['rmlC35'].apply(resolve_as_arr)\nfile3['rmlC3'] = file3['rmlC3'].apply(resolve_as_arr)\nfile3['rmlD'] = file3['rmlD'].apply(resolve_as_arr)\n\nfile3",
      "execution_count": 14,
      "outputs": []
    },
    {
      "metadata": {
        "_uuid": "64f1eb0de947870a47c5fa6f0ee9469fc493d68d"
      },
      "cell_type": "markdown",
      "source": "Now we add a column that finds the range between these values\n\nSince any value in array can be used so we cross join the arrays to get all combinations of 5 integers"
    },
    {
      "metadata": {
        "trusted": true,
        "_uuid": "d8b481e29af1823f1ef1cddcb354889f3fca09c6",
        "collapsed": true
      },
      "cell_type": "code",
      "source": "import itertools\na = [1, 2, 3]\nb = [4, 5, 6]\nlist(itertools.product(a,b))",
      "execution_count": 15,
      "outputs": []
    },
    {
      "metadata": {
        "trusted": true,
        "_uuid": "aa872d70917f1c310d8c1adec038897a84508b94",
        "collapsed": true
      },
      "cell_type": "code",
      "source": "arr = [2,1,3,5,7]\narr.sort()\nprint(arr)\n\ndiff = []\nfor i in range(1, len(arr)):\n    diff.append(arr[i] - arr[i-1])\nmax(diff)",
      "execution_count": 16,
      "outputs": []
    },
    {
      "metadata": {
        "trusted": true,
        "_uuid": "f0030646c3574d4f488b63c5da26faa8f10d4207",
        "collapsed": true
      },
      "cell_type": "code",
      "source": "def findRange(arr_of_nums):\n    arr_of_nums = list(arr_of_nums)\n    arr_of_nums = [a for a in arr_of_nums if a != -9999]\n    arr_of_nums.sort()\n    \n    diff = []\n    for i in range(1, len(arr_of_nums)):\n        diff.append(arr_of_nums[i] - arr_of_nums[i-1])\n    return max(diff) \n\ndef findMinRangeVal(arr_of_arr_of_nums):\n    return min(arr_of_arr_of_nums, key=findRange)\n\ndef findMinRange(arr_of_arr_of_nums):\n    print(findMinRangeVal(arr_of_arr_of_nums))\n    return findRange(min(arr_of_arr_of_nums, key=findRange))\n        \na = (10, 20, 30)\nb = (15, 4, -9999)\nd = (2, 3, 11)\nc = list(itertools.product(a,b,d))\n\n\nprint(\"Range =>\")\nprint(a)\nprint(findRange(a))\nprint(\"-------\")\nprint(b)\nprint(findRange(b))\nprint(\"-------\")\nprint(d)\nprint(findRange(d))\nprint(\"-------\")\n\nprint(\"Combinations =>\")\nprint(c)\nprint(\"Min Combination Range =>\" )\nprint( findMinRange(c))\n",
      "execution_count": 17,
      "outputs": []
    },
    {
      "metadata": {
        "trusted": true,
        "_uuid": "beb0059937c2b5c13ae2ece53f34b9919a830d72",
        "collapsed": true
      },
      "cell_type": "code",
      "source": "file3",
      "execution_count": 18,
      "outputs": []
    },
    {
      "metadata": {
        "trusted": true,
        "_uuid": "2d2c19406435907edbd53a1ecd8e00704c48f94d",
        "collapsed": true
      },
      "cell_type": "code",
      "source": "def findMinRangeInRow(row):\n    col_names = ['rmlA','rmlB','rmlC35','rmlC3','rmlD']\n    for col_name in col_names:\n        row[col_name] = map(int, row[col_name])\n    combinations = list(itertools.product(row['rmlA'], row['rmlB'], row['rmlC35'], row['rmlC3'], row['rmlD']))\n    return findMinRange(combinations)\n\ndef isNeighbour(row):\n    return row['minRange']<=10\n\nfile3['minRange'] = file3.apply(findMinRangeInRow, axis=1)\nfile3['output_2'] = file3.apply(isNeighbour, axis=1)\nfile3",
      "execution_count": 19,
      "outputs": []
    },
    {
      "metadata": {
        "trusted": true,
        "collapsed": true,
        "_uuid": "9ec15b661021f334a1850d782eae86db5130fa7f"
      },
      "cell_type": "code",
      "source": "file3.to_csv('output_2.csv')",
      "execution_count": 20,
      "outputs": []
    }
  ],
  "metadata": {
    "kernelspec": {
      "display_name": "Python 3",
      "language": "python",
      "name": "python3"
    },
    "language_info": {
      "name": "python",
      "version": "3.6.5",
      "mimetype": "text/x-python",
      "codemirror_mode": {
        "name": "ipython",
        "version": 3
      },
      "pygments_lexer": "ipython3",
      "nbconvert_exporter": "python",
      "file_extension": ".py"
    }
  },
  "nbformat": 4,
  "nbformat_minor": 1
}